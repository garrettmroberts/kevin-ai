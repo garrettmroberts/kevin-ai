{
 "cells": [
  {
   "cell_type": "code",
   "execution_count": null,
   "metadata": {},
   "outputs": [],
   "source": [
    "from dotenv import load_dotenv\n",
    "import os\n",
    "from langchain_openai import ChatOpenAI\n",
    "\n",
    "load_dotenv()\n",
    "\n",
    "llm = ChatOpenAI(temperature=0.1, api_key=os.getenv(\"OPENAI_API_KEY\"))"
   ]
  },
  {
   "cell_type": "code",
   "execution_count": null,
   "metadata": {},
   "outputs": [],
   "source": [
    "from langchain_core.prompts import ChatPromptTemplate\n",
    "\n",
    "text_prompt = ChatPromptTemplate.from_messages([\n",
    "    (\"system\", \"You are a master shitposter.  Your humor is somewhat edgy and does not always make complete sense.\"),\n",
    "    (\"user\", \"Create a description for an instagram post about {input}.  The description needs to be edgy and humorous.\")\n",
    "])\n",
    "\n",
    "chain = text_prompt | llm\n",
    "post_text = chain.invoke({\"input\": \"Kanye West\"}).content\n",
    "post_text"
   ]
  },
  {
   "cell_type": "code",
   "execution_count": null,
   "metadata": {},
   "outputs": [],
   "source": [
    "from langchain_core.prompts import PromptTemplate\n",
    "\n",
    "image_prompt_template = PromptTemplate.from_template(\"Generate a detailed prompt to generate an photo for an instagram profile that will go along with this description: {description}. There should be no hashtags in your created prompt.  If the name of a real person is used in the given description, share their descent and gender, but without any other identifing features.\")\n",
    "image_chain = image_prompt_template | llm\n",
    "image_prompt = image_chain.invoke({\"description\": post_text}).content\n",
    "image_prompt"
   ]
  },
  {
   "cell_type": "code",
   "execution_count": null,
   "metadata": {},
   "outputs": [],
   "source": [
    "from langchain_community.utilities.dalle_image_generator import DallEAPIWrapper\n",
    "\n",
    "image_url = DallEAPIWrapper().run(image_prompt)\n",
    "image_url"
   ]
  }
 ],
 "metadata": {
  "kernelspec": {
   "display_name": "env",
   "language": "python",
   "name": "python3"
  },
  "language_info": {
   "codemirror_mode": {
    "name": "ipython",
    "version": 3
   },
   "file_extension": ".py",
   "mimetype": "text/x-python",
   "name": "python",
   "nbconvert_exporter": "python",
   "pygments_lexer": "ipython3",
   "version": "3.9.6"
  }
 },
 "nbformat": 4,
 "nbformat_minor": 2
}
